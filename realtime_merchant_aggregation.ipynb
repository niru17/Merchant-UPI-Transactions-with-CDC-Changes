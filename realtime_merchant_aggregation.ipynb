{
 "cells": [
  {
   "cell_type": "code",
   "execution_count": 0,
   "metadata": {
    "application/vnd.databricks.v1+cell": {
     "cellMetadata": {
      "byteLimit": 2048000,
      "rowLimit": 10000
     },
     "inputWidgets": {},
     "nuid": "fd074c46-8351-44a8-82c7-b9e740d14425",
     "showTitle": false,
     "tableResultSettingsMap": {},
     "title": ""
    }
   },
   "outputs": [],
   "source": [
    "#Read CDC Stream\n",
    "# cdc_stream=spark.readStream.format(\"delta\")\\\n",
    "#             .option(\"readChangeFeed\", \"true\")\\\n",
    "#             .table(\"incremental_load.default.raw_upi_transactions\")\n",
    "\n",
    "# query= cdc_stream.select(\n",
    "#     \"transaction_id\",\n",
    "#     \"upi_id\",\n",
    "#     \"merchant_id\",\n",
    "#     \"transaction_amount\",\n",
    "#     \"transaction_timestamp\",\n",
    "#     \"transaction_status\",\n",
    "#     \"_change_type\",\n",
    "#     \"_commit_version\",\n",
    "#     \"_commit_timestamp\"\n",
    "# ).writeStream.format(\"console\")\\\n",
    "#     .outputMode(\"append\")\\\n",
    "#     .start()\n",
    "# query.awaitTermination()"
   ]
  },
  {
   "cell_type": "code",
   "execution_count": 0,
   "metadata": {
    "application/vnd.databricks.v1+cell": {
     "cellMetadata": {
      "byteLimit": 2048000,
      "rowLimit": 10000
     },
     "inputWidgets": {},
     "nuid": "469d5048-8993-48dd-a8ac-2e49ae6c0915",
     "showTitle": false,
     "tableResultSettingsMap": {},
     "title": ""
    }
   },
   "outputs": [],
   "source": [
    "from pyspark.sql.functions import col, sum, when\n",
    "from delta.tables import DeltaTable\n",
    "\n",
    "aggregated_table_name=\"incremental_load.default.upi_agg\"\n",
    "raw_table_name=\"incremental_load.default.raw_upi_transactions\"\n",
    "\n",
    "spark.sql(f'''\n",
    "CREATE TABLE IF NOT EXISTS {aggregated_table_name} (\n",
    "    merchant_id STRING,\n",
    "    total_sales DOUBLE,\n",
    "    total_refunds DOUBLE,\n",
    "    net_sales DOUBLE\n",
    ") \n",
    "''')\n",
    "\n",
    "def process_aggregation(batch_df, batch_id):\n",
    "    print(f\"Processing batch: {batch_id}\")\n",
    "\n",
    "    aggregated_df=(\n",
    "        batch_df.filter(col(\"_change_type\").isin(\"insert\",\"update_postimage\"))\\\n",
    "                .groupBy(\"merchant_id\")\\\n",
    "                .agg( \n",
    "                    sum(when(col(\"transaction_status\")==\"completed\",col(\"transaction_amount\")).otherwise(0)).alias(\"total_sales\"),\n",
    "                    sum(when(col(\"transaction_status\")==\"refunded\", -col(\"transaction_amount\")).otherwise(0)).alias(\"total_refunds\")\n",
    "                )\\\n",
    "                .withColumn(\"net_sales\",col(\"total_sales\")+col(\"total_refunds\"))\n",
    "    )\n",
    "\n",
    "    target_table=DeltaTable.forName(spark,aggregated_table_name)\n",
    "    target_table.alias(\"target\").merge(\n",
    "        aggregated_df.alias(\"source\"),\n",
    "        \"target.merchant_id = source.merchant_id\"\n",
    "    ).whenMatchedUpdate(\n",
    "        set={\n",
    "            \"total_sales\":\"target.total_sales+source.total_sales\",\n",
    "            \"total_refunds\":\"target.total_refunds+source.total_refunds\",\n",
    "            \"net_sales\":\"target.net_sales+source.net_sales\"\n",
    "        }\n",
    "    ).whenNotMatchedInsertAll().execute()\n",
    "\n",
    "cdc_stream=spark.readStream.format(\"delta\")\\\n",
    "            .option(\"readChangeFeed\", \"true\")\\\n",
    "            .table(raw_table_name)\n",
    "print(\"Read Stream Started........\")\n",
    "cdc_stream.writeStream.foreachBatch(process_aggregation).outputMode(\"update\")\\\n",
    "        .start().awaitTermination()\n",
    "\n"
   ]
  }
 ],
 "metadata": {
  "application/vnd.databricks.v1+notebook": {
   "computePreferences": null,
   "dashboards": [
    {
     "elements": [],
     "globalVars": {},
     "guid": "",
     "layoutOption": {
      "grid": true,
      "stack": true
     },
     "nuid": "6b941481-bf0f-4a60-94c1-629fb1f0fc75",
     "origId": 7033115699212558,
     "title": "Untitled",
     "version": "DashboardViewV1",
     "width": 1024
    }
   ],
   "environmentMetadata": {
    "base_environment": "",
    "environment_version": "2"
   },
   "inputWidgetPreferences": null,
   "language": "python",
   "notebookMetadata": {
    "pythonIndentUnit": 4
   },
   "notebookName": "realtime_merchant_aggregation",
   "widgets": {}
  },
  "language_info": {
   "name": "python"
  }
 },
 "nbformat": 4,
 "nbformat_minor": 0
}
